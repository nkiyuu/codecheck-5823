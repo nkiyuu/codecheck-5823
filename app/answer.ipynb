{
 "cells": [
  {
   "cell_type": "code",
   "execution_count": 68,
   "metadata": {
    "collapsed": false
   },
   "outputs": [
    {
     "name": "stdout",
     "output_type": "stream",
     "text": [
      "\n",
      "0\n"
     ]
    }
   ],
   "source": [
    "import xml.etree.ElementTree as ET\n",
    "import urllib.request\n",
    "import chardet\n",
    "\n",
    "inputs = input()\n",
    "keywords = inputs.split(\",\")\n",
    "ACCESS_KEY = \"869388c0968ae503614699f99e09d960f9ad3e12\"\n",
    "def get_numFound(keyword):\n",
    "    response = urllib.request.urlopen(\"http://54.92.123.84/search?q=Keyword:IoT&ackey=\" + ACCESS_KEY)\n",
    "    response\n",
    "    tree = ET.parse(response)\n",
    "    root = tree.getroot()\n",
    "    return 0\n",
    "    \n",
    "for keyword in keywords:\n",
    "    print(get_numFound(keyword))\n"
   ]
  },
  {
   "cell_type": "code",
   "execution_count": 43,
   "metadata": {
    "collapsed": false
   },
   "outputs": [
    {
     "data": {
      "text/plain": [
       "'1'"
      ]
     },
     "execution_count": 43,
     "metadata": {},
     "output_type": "execute_result"
    }
   ],
   "source": [
    "\n",
    "\n",
    "\n",
    "\n",
    "\n",
    "\n"
   ]
  },
  {
   "cell_type": "code",
   "execution_count": null,
   "metadata": {
    "collapsed": true
   },
   "outputs": [],
   "source": []
  }
 ],
 "metadata": {
  "kernelspec": {
   "display_name": "Python 3",
   "language": "python",
   "name": "python3"
  },
  "language_info": {
   "codemirror_mode": {
    "name": "ipython",
    "version": 3
   },
   "file_extension": ".py",
   "mimetype": "text/x-python",
   "name": "python",
   "nbconvert_exporter": "python",
   "pygments_lexer": "ipython3",
   "version": "3.5.2"
  }
 },
 "nbformat": 4,
 "nbformat_minor": 2
}
